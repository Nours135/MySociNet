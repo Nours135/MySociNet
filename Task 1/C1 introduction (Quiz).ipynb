{
 "cells": [
  {
   "cell_type": "markdown",
   "id": "7bd3975a",
   "metadata": {},
   "source": [
    "## GOAL\n",
    "1. Learn to use **\"install\"** and **\"import\"** in Python\n",
    "2. Learn to use **\"networkx\"**, **\"igraph\"** and **\"matplotlib\"** module\n",
    "3. Learn to **create and draw your first graph** at least by using **networkx**!"
   ]
  },
  {
   "cell_type": "markdown",
   "id": "dc872fb1",
   "metadata": {},
   "source": [
    "## 01 INSTALL"
   ]
  },
  {
   "cell_type": "markdown",
   "id": "1fe8c16c",
   "metadata": {},
   "source": [
    "<mark>Question1: please install **networkx** in jupyter notebook (reference: https://blog.csdn.net/chenpe32cp/article/details/80350409)<mark>"
   ]
  },
  {
   "cell_type": "code",
   "execution_count": 1,
   "id": "48bdc3ea",
   "metadata": {},
   "outputs": [],
   "source": [
    "#!pip install networkx"
   ]
  },
  {
   "cell_type": "markdown",
   "id": "d6368176",
   "metadata": {},
   "source": [
    "<mark>Question2: please install **igraph** in jupyter notebook<mark>"
   ]
  },
  {
   "cell_type": "code",
   "execution_count": 2,
   "id": "83c965cd",
   "metadata": {},
   "outputs": [],
   "source": [
    "#!pip install igraph"
   ]
  },
  {
   "cell_type": "markdown",
   "id": "7e6ff158",
   "metadata": {},
   "source": [
    "## 02 IMPORT"
   ]
  },
  {
   "cell_type": "markdown",
   "id": "26624169-5f8e-44df-a3fc-3b075429940f",
   "metadata": {},
   "source": [
    "<mark>Question3: please **\"import networkx as nx\"** (reference: [为什么python需要import?](https://zhuanlan.zhihu.com/p/63143493))<mark>"
   ]
  },
  {
   "cell_type": "code",
   "execution_count": 3,
   "id": "b880d545",
   "metadata": {},
   "outputs": [],
   "source": [
    "import networkx as nx"
   ]
  },
  {
   "cell_type": "markdown",
   "id": "471f5a4f",
   "metadata": {},
   "source": [
    "<mark>Question4: please **\"import igraph as ig\"**<mark>"
   ]
  },
  {
   "cell_type": "code",
   "execution_count": 4,
   "id": "f16e7f68",
   "metadata": {},
   "outputs": [],
   "source": [
    "import igraph as ig"
   ]
  },
  {
   "cell_type": "markdown",
   "id": "9e6dcad0",
   "metadata": {},
   "source": [
    "<mark>Question5: please **\"import matplotlib.pyplot as plt\"** (reference: [为什么需要matplotlib？](https://zhuanlan.zhihu.com/p/431497280))<mark>"
   ]
  },
  {
   "cell_type": "code",
   "execution_count": 5,
   "id": "5422cf8b",
   "metadata": {},
   "outputs": [],
   "source": [
    "import matplotlib.pyplot as plt"
   ]
  },
  {
   "cell_type": "markdown",
   "id": "cad1d457",
   "metadata": {},
   "source": [
    "## 03 INITIALIZATION"
   ]
  },
  {
   "cell_type": "markdown",
   "id": "1b368123",
   "metadata": {},
   "source": [
    "<mark>Question 5: please **initialize a graph** by **networkx** (reference: https://zhuanlan.zhihu.com/p/536737592)<mark>"
   ]
  },
  {
   "cell_type": "code",
   "execution_count": 6,
   "id": "724de32a",
   "metadata": {},
   "outputs": [],
   "source": [
    "G = nx.Graph()"
   ]
  },
  {
   "cell_type": "markdown",
   "id": "d12f1454",
   "metadata": {},
   "source": [
    "<mark>Question 6: please **add a node to graph G** (reference: https://zhuanlan.zhihu.com/p/536737592)<mark>"
   ]
  },
  {
   "cell_type": "code",
   "execution_count": 7,
   "id": "a0f5266c",
   "metadata": {},
   "outputs": [
    {
     "name": "stdout",
     "output_type": "stream",
     "text": [
      "[1]\n"
     ]
    }
   ],
   "source": [
    "G.add_node(1)\n",
    "print(G.nodes)"
   ]
  },
  {
   "cell_type": "markdown",
   "id": "024f5947",
   "metadata": {},
   "source": [
    "<mark>Question 7: can you **add Multiple nodes at the same time?** (reference: https://zhuanlan.zhihu.com/p/536737592)<mark>"
   ]
  },
  {
   "cell_type": "code",
   "execution_count": 8,
   "id": "2b534085",
   "metadata": {},
   "outputs": [
    {
     "name": "stdout",
     "output_type": "stream",
     "text": [
      "[1, 2, 3, 4, 5, 6, 7]\n"
     ]
    }
   ],
   "source": [
    "G.add_nodes_from([2, 3, 4, 5, 6, 7])\n",
    "print(G.nodes)"
   ]
  },
  {
   "cell_type": "markdown",
   "id": "cdb3975d",
   "metadata": {},
   "source": [
    "<mark>Question 8: please **add an edge to graph G** (reference: https://zhuanlan.zhihu.com/p/536737592)<mark>"
   ]
  },
  {
   "cell_type": "code",
   "execution_count": 9,
   "id": "14dfe390",
   "metadata": {},
   "outputs": [
    {
     "name": "stdout",
     "output_type": "stream",
     "text": [
      "[(1, 2), (1, 5), (2, 7), (2, 4), (3, 6), (3, 5), (4, 6), (6, 7)]\n"
     ]
    }
   ],
   "source": [
    "G.add_edges_from([(1,2), (7,2), (4,6), (1,5), (3, 6), (7, 6), (2, 4), (3,5)])\n",
    "print(G.edges)"
   ]
  },
  {
   "cell_type": "markdown",
   "id": "fd6513d6",
   "metadata": {},
   "source": [
    "<mark>Question 9:please **draw your graph!** (reference: https://zhuanlan.zhihu.com/p/536737592)<mark>"
   ]
  },
  {
   "cell_type": "code",
   "execution_count": 10,
   "id": "5ac44927",
   "metadata": {
    "scrolled": true
   },
   "outputs": [
    {
     "data": {
      "image/png": "[encoded data removed]",
      "text/plain": [
       "<Figure size 640x480 with 1 Axes>"
      ]
     },
     "metadata": {},
     "output_type": "display_data"
    }
   ],
   "source": [
    "plt.show()  \n",
    "nx.draw(G, with_labels=True, font_weight='bold')"
   ]
  },
  {
   "cell_type": "markdown",
   "id": "69f8ad68",
   "metadata": {},
   "source": [
    "## 04 BONUS(OPTIONAL)"
   ]
  },
  {
   "cell_type": "markdown",
   "id": "144ec3d0",
   "metadata": {},
   "source": [
    "<mark>Additional question 1(**optional**): Can you repeat the **\"INITIALIZATION\" part** by **igraph**?<mark>"
   ]
  },
  {
   "cell_type": "markdown",
   "id": "e53c4bda",
   "metadata": {},
   "source": [
    "<mark>Additional question 2(optional): Do you know **the differences between \"igraph\" and \"networkx\"**?<mark>"
   ]
  },
  {
   "cell_type": "code",
   "execution_count": 11,
   "id": "36f03d25",
   "metadata": {},
   "outputs": [
    {
     "name": "stdout",
     "output_type": "stream",
     "text": [
      "[igraph.Vertex(<igraph.Graph object at 0x000001D5E3459E40>, 0, {'name': 1}), igraph.Vertex(<igraph.Graph object at 0x000001D5E3459E40>, 1, {'name': 2}), igraph.Vertex(<igraph.Graph object at 0x000001D5E3459E40>, 2, {'name': 3}), igraph.Vertex(<igraph.Graph object at 0x000001D5E3459E40>, 3, {'name': 4}), igraph.Vertex(<igraph.Graph object at 0x000001D5E3459E40>, 4, {'name': 5}), igraph.Vertex(<igraph.Graph object at 0x000001D5E3459E40>, 5, {'name': 6}), igraph.Vertex(<igraph.Graph object at 0x000001D5E3459E40>, 6, {'name': 7})]\n"
     ]
    },
    {
     "data": {
      "text/plain": [
       "<AxesSubplot: >"
      ]
     },
     "execution_count": 11,
     "metadata": {},
     "output_type": "execute_result"
    },
    {
     "data": {
      "image/png": "[encoded data removed]",
      "text/plain": [
       "<Figure size 640x480 with 1 Axes>"
      ]
     },
     "metadata": {},
     "output_type": "display_data"
    }
   ],
   "source": [
    "# https://zhuanlan.zhihu.com/p/426397948 \n",
    "g2 = ig.Graph()\n",
    "g2.add_vertices([1,2,3,4,5,6,7])\n",
    "print(list(g2.vs)) #可以观察到，这里返回的是容器存储的的igraph.Vertex对象\n",
    "g2.add_edges([(edge_tuple[0]-1, edge_tuple[1]-1) for edge_tuple in G.edges]) # 区别1，igraph建立边需要用索引而非名称\n",
    "layout = g2.layout(\"kk\")\n",
    "fig, ax = plt.subplots()\n",
    "ig.plot(g2, layout=layout, target= ax, vertex_label=[node[\"name\"] for node in g2.vs])"
   ]
  },
  {
   "cell_type": "code",
   "execution_count": 12,
   "id": "fe3f4fb2",
   "metadata": {},
   "outputs": [],
   "source": [
    "# （1）igraph由C实现而networkx由python实现，前者效率更高"
   ]
  }
 ],
 "metadata": {
  "kernelspec": {
   "display_name": "Python 3 (ipykernel)",
   "language": "python",
   "name": "python3"
  },
  "language_info": {
   "codemirror_mode": {
    "name": "ipython",
    "version": 3
   },
   "file_extension": ".py",
   "mimetype": "text/x-python",
   "name": "python",
   "nbconvert_exporter": "python",
   "pygments_lexer": "ipython3",
   "version": "3.8.2"
  }
 },
 "nbformat": 4,
 "nbformat_minor": 5
}
